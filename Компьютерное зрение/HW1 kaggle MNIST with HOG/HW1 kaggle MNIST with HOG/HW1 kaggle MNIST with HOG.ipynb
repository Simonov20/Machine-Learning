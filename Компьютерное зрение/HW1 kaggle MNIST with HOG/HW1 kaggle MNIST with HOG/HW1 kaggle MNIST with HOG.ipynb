{
 "cells": [
  {
   "cell_type": "raw",
   "metadata": {},
   "source": [
    "https://www.kaggle.com/c/digit-recognizer\n",
    "\n",
    "Распознавание рукописного ввода на примере базы MNIST\n",
    "\n",
    "Построить классификатор изображений рукописного ввода на базе MNIST. В качестве шаблона в данной работе можно использовать ipython-ноутбук 002-digit.ipynb.\n",
    "\n",
    "Классификатор предлагается строить на признаках, полученных в результате предобработки изображений, например, гистограммы градиентов (HOG) или результат PCA преобразования.\n",
    "\n",
    "В качестве модели классификатора можно использовать любую известную Вам модель, за исключением сверточных нейронных сетей.\n",
    "\n",
    "Критерием качества классификатора является метрика accuracy. Для получения зачета по данной работе, значение метрики accuracy должно быть больше 0.6. Метрика оценивается на тестовой выборке в рамках контеста Digit Recognizer на Kaggle.\n",
    "\n",
    "Решение необходимо предоставить в виде ipython-ноутбука с реализацией процесса построения модели и скриншота с финальным результатом на Kaggle."
   ]
  },
  {
   "cell_type": "code",
   "execution_count": 13,
   "metadata": {},
   "outputs": [],
   "source": [
    "import numpy as np\n",
    "import matplotlib.pyplot as plt\n",
    "import pandas as pd\n",
    "import cv2"
   ]
  },
  {
   "cell_type": "code",
   "execution_count": 14,
   "metadata": {},
   "outputs": [],
   "source": [
    "# Загружаем данные c numpy, так как далле потребуется перевести в тензоры\n",
    "train = np.loadtxt('./data/digit/train.csv', delimiter=',', skiprows=1)\n",
    "test = np.loadtxt('./data/digit/test.csv', delimiter=',', skiprows=1)"
   ]
  },
  {
   "cell_type": "markdown",
   "metadata": {},
   "source": [
    "### Переводим данные в тензоры, так как изображение 28 на 28 пикселей"
   ]
  },
  {
   "cell_type": "code",
   "execution_count": 228,
   "metadata": {
    "scrolled": true
   },
   "outputs": [
    {
     "name": "stdout",
     "output_type": "stream",
     "text": [
      "train_img (42000, 28, 28)\n",
      "test_img (28000, 28, 28)\n"
     ]
    }
   ],
   "source": [
    "train_label=train[:,0] # таргеты\n",
    "train_img=train[:,1:].reshape(train.shape[0], 28,28)\n",
    "test_img = np.resize(test, (test.shape[0], 28, 28))\n",
    "print('train_img',train_img.shape)\n",
    "print('test_img',test_img.shape)"
   ]
  },
  {
   "cell_type": "code",
   "execution_count": 229,
   "metadata": {
    "scrolled": true
   },
   "outputs": [
    {
     "data": {
      "text/plain": [
       "<matplotlib.image.AxesImage at 0x720945ac88>"
      ]
     },
     "execution_count": 229,
     "metadata": {},
     "output_type": "execute_result"
    },
    {
     "data": {
      "image/png": "[encoded data removed]",
      "text/plain": [
       "<Figure size 432x288 with 1 Axes>"
      ]
     },
     "metadata": {
      "needs_background": "light"
     },
     "output_type": "display_data"
    }
   ],
   "source": [
    "plt.imshow(train_img[41999],cmap='gray')"
   ]
  },
  {
   "cell_type": "markdown",
   "metadata": {},
   "source": [
    "### Визуализируем данные"
   ]
  },
  {
   "cell_type": "code",
   "execution_count": 230,
   "metadata": {},
   "outputs": [
    {
     "data": {
      "image/png": "[encoded data removed]",
      "text/plain": [
       "<Figure size 288x288 with 1 Axes>"
      ]
     },
     "metadata": {
      "needs_background": "light"
     },
     "output_type": "display_data"
    },
    {
     "data": {
      "image/png": "[encoded data removed]",
      "text/plain": [
       "<Figure size 288x288 with 1 Axes>"
      ]
     },
     "metadata": {
      "needs_background": "light"
     },
     "output_type": "display_data"
    },
    {
     "data": {
      "image/png": "[encoded data removed]",
      "text/plain": [
       "<Figure size 288x288 with 1 Axes>"
      ]
     },
     "metadata": {
      "needs_background": "light"
     },
     "output_type": "display_data"
    }
   ],
   "source": [
    "for i in range(0,3):\n",
    "    plt.matshow(train_img[i],cmap='gray') # matshow - показать изображения представленные матрицами, одну картинку просто imshow"
   ]
  },
  {
   "cell_type": "code",
   "execution_count": 231,
   "metadata": {},
   "outputs": [],
   "source": [
    "#help(cv2.HOGDescriptor())"
   ]
  },
  {
   "cell_type": "markdown",
   "metadata": {},
   "source": [
    "### Переводим в необходимый формат для дальнейшей работы с нахождением градиентов"
   ]
  },
  {
   "cell_type": "code",
   "execution_count": 232,
   "metadata": {},
   "outputs": [
    {
     "name": "stdout",
     "output_type": "stream",
     "text": [
      "[[  0   0   0   0   0   0   0   0   0   0   0   0   0   0   0   0   0   0\n",
      "    0   0   0   0   0   0   0   0   0   0]\n",
      " [  0   0   0   0   0   0   0   0   0   0   0   0   0   0   0   0   0   0\n",
      "    0   0   0   0   0   0   0   0   0   0]\n",
      " [  0   0   0   0   0   0   0   0   0   0   0   0   0   0   0   0   0   0\n",
      "    0   0   0   0   0   0   0   0   0   0]\n",
      " [  0   0   0   0   0   0   0   0   0   0   0   0   0   0   0   0   0   0\n",
      "    0   0   0   0   0   0   0   0   0   0]\n",
      " [  0   0   0   0   0   0   0   0   0   0  18  30 137 137 192  86  72   1\n",
      "    0   0   0   0   0   0   0   0   0   0]\n",
      " [  0   0   0   0   0   0   0   0  13  86 250 254 254 254 254 217 246 151\n",
      "   32   0   0   0   0   0   0   0   0   0]\n",
      " [  0   0   0   0   0   0   0  16 179 254 254 254 254 254 254 254 254 254\n",
      "  231  54  15   0   0   0   0   0   0   0]\n",
      " [  0   0   0   0   0   0   0  72 254 254 254 254 254 254 254 254 254 254\n",
      "  254 254 104   0   0   0   0   0   0   0]\n",
      " [  0   0   0   0   0   0  61 191 254 254 254 254 254 109  83 199 254 254\n",
      "  254 254 243  85   0   0   0   0   0   0]\n",
      " [  0   0   0   0   0   0 172 254 254 254 202 147 147  45   0  11  29 200\n",
      "  254 254 254 171   0   0   0   0   0   0]\n",
      " [  0   0   0   0   0   1 174 254 254  89  67   0   0   0   0   0   0 128\n",
      "  252 254 254 212  76   0   0   0   0   0]\n",
      " [  0   0   0   0   0  47 254 254 254  29   0   0   0   0   0   0   0   0\n",
      "   83 254 254 254 153   0   0   0   0   0]\n",
      " [  0   0   0   0   0  80 254 254 240  24   0   0   0   0   0   0   0   0\n",
      "   25 240 254 254 153   0   0   0   0   0]\n",
      " [  0   0   0   0   0  64 254 254 186   7   0   0   0   0   0   0   0   0\n",
      "    0 166 254 254 224  12   0   0   0   0]\n",
      " [  0   0   0   0  14 232 254 254 254  29   0   0   0   0   0   0   0   0\n",
      "    0  75 254 254 254  17   0   0   0   0]\n",
      " [  0   0   0   0  18 254 254 254 254  29   0   0   0   0   0   0   0   0\n",
      "    0  48 254 254 254  17   0   0   0   0]\n",
      " [  0   0   0   0   2 163 254 254 254  29   0   0   0   0   0   0   0   0\n",
      "    0  48 254 254 254  17   0   0   0   0]\n",
      " [  0   0   0   0   0  94 254 254 254 200  12   0   0   0   0   0   0   0\n",
      "   16 209 254 254 150   1   0   0   0   0]\n",
      " [  0   0   0   0   0  15 206 254 254 254 202  66   0   0   0   0   0  21\n",
      "  161 254 254 245  31   0   0   0   0   0]\n",
      " [  0   0   0   0   0   0  60 212 254 254 254 194  48  48  34  41  48 209\n",
      "  254 254 254 171   0   0   0   0   0   0]\n",
      " [  0   0   0   0   0   0   0  86 243 254 254 254 254 254 233 243 254 254\n",
      "  254 254 254  86   0   0   0   0   0   0]\n",
      " [  0   0   0   0   0   0   0   0 114 254 254 254 254 254 254 254 254 254\n",
      "  254 239  86  11   0   0   0   0   0   0]\n",
      " [  0   0   0   0   0   0   0   0  13 182 254 254 254 254 254 254 254 254\n",
      "  243  70   0   0   0   0   0   0   0   0]\n",
      " [  0   0   0   0   0   0   0   0   0   8  76 146 254 255 254 255 146  19\n",
      "   15   0   0   0   0   0   0   0   0   0]\n",
      " [  0   0   0   0   0   0   0   0   0   0   0   0   0   0   0   0   0   0\n",
      "    0   0   0   0   0   0   0   0   0   0]\n",
      " [  0   0   0   0   0   0   0   0   0   0   0   0   0   0   0   0   0   0\n",
      "    0   0   0   0   0   0   0   0   0   0]\n",
      " [  0   0   0   0   0   0   0   0   0   0   0   0   0   0   0   0   0   0\n",
      "    0   0   0   0   0   0   0   0   0   0]\n",
      " [  0   0   0   0   0   0   0   0   0   0   0   0   0   0   0   0   0   0\n",
      "    0   0   0   0   0   0   0   0   0   0]]\n"
     ]
    }
   ],
   "source": [
    "cv_img=train_img.astype(np.uint8)\n",
    "print(cv_img[1])"
   ]
  },
  {
   "cell_type": "markdown",
   "metadata": {},
   "source": [
    "Описание признаков здесь - https://docs.opencv.org/2.4/modules/gpu/doc/object_detection.html"
   ]
  },
  {
   "cell_type": "markdown",
   "metadata": {},
   "source": [
    "### Построим HOG для уменьшения признаков в изображении"
   ]
  },
  {
   "cell_type": "code",
   "execution_count": 238,
   "metadata": {},
   "outputs": [],
   "source": [
    "winSize = (28,28) # размер изображения\n",
    "blockSize = (14,14)\n",
    "blockStride = (7,7)\n",
    "cellSize = (7,7)\n",
    "nbins = 1\n",
    "derivAperture = 1\n",
    "winSigma = 4\n",
    "histogramNormType = 0\n",
    "L2HysThreshold = 2.0000000000000001e-01\n",
    "gammaCorrection = 0\n",
    "nlevels = 12\n",
    "\n",
    "hog=cv2.HOGDescriptor(winSize,blockSize,blockStride,cellSize,nbins,derivAperture,winSigma,\n",
    "                    histogramNormType,L2HysThreshold,gammaCorrection,nlevels)"
   ]
  },
  {
   "cell_type": "code",
   "execution_count": 239,
   "metadata": {
    "scrolled": true
   },
   "outputs": [
    {
     "data": {
      "text/plain": [
       "(36, 1)"
      ]
     },
     "execution_count": 239,
     "metadata": {},
     "output_type": "execute_result"
    }
   ],
   "source": [
    "winStride = (5,5)\n",
    "padding = (8,8)\n",
    "locations = ((0,0),)\n",
    "hist=hog.compute(cv_img[0], winStride,padding,locations)\n",
    "hist.shape"
   ]
  },
  {
   "cell_type": "markdown",
   "metadata": {},
   "source": [
    "### Составим таблицу из полученных дискрипторов"
   ]
  },
  {
   "cell_type": "code",
   "execution_count": 240,
   "metadata": {
    "scrolled": true
   },
   "outputs": [
    {
     "data": {
      "text/html": [
       "<div>\n",
       "<style scoped>\n",
       "    .dataframe tbody tr th:only-of-type {\n",
       "        vertical-align: middle;\n",
       "    }\n",
       "\n",
       "    .dataframe tbody tr th {\n",
       "        vertical-align: top;\n",
       "    }\n",
       "\n",
       "    .dataframe thead th {\n",
       "        text-align: right;\n",
       "    }\n",
       "</style>\n",
       "<table border=\"1\" class=\"dataframe\">\n",
       "  <thead>\n",
       "    <tr style=\"text-align: right;\">\n",
       "      <th></th>\n",
       "      <th>0</th>\n",
       "      <th>1</th>\n",
       "      <th>2</th>\n",
       "      <th>3</th>\n",
       "      <th>4</th>\n",
       "      <th>5</th>\n",
       "      <th>6</th>\n",
       "      <th>7</th>\n",
       "      <th>8</th>\n",
       "      <th>9</th>\n",
       "      <th>...</th>\n",
       "      <th>26</th>\n",
       "      <th>27</th>\n",
       "      <th>28</th>\n",
       "      <th>29</th>\n",
       "      <th>30</th>\n",
       "      <th>31</th>\n",
       "      <th>32</th>\n",
       "      <th>33</th>\n",
       "      <th>34</th>\n",
       "      <th>35</th>\n",
       "    </tr>\n",
       "  </thead>\n",
       "  <tbody>\n",
       "    <tr>\n",
       "      <th>0</th>\n",
       "      <td>0.0</td>\n",
       "      <td>0.0</td>\n",
       "      <td>0.0</td>\n",
       "      <td>0.995025</td>\n",
       "      <td>0.000886</td>\n",
       "      <td>0.26237</td>\n",
       "      <td>0.679844</td>\n",
       "      <td>0.679844</td>\n",
       "      <td>0.395331</td>\n",
       "      <td>0.406374</td>\n",
       "      <td>...</td>\n",
       "      <td>0.498753</td>\n",
       "      <td>0.498753</td>\n",
       "      <td>0.631302</td>\n",
       "      <td>0.631302</td>\n",
       "      <td>0.443326</td>\n",
       "      <td>0.0086</td>\n",
       "      <td>0.995025</td>\n",
       "      <td>0.0</td>\n",
       "      <td>0.0</td>\n",
       "      <td>0.0</td>\n",
       "    </tr>\n",
       "  </tbody>\n",
       "</table>\n",
       "<p>1 rows × 36 columns</p>\n",
       "</div>"
      ],
      "text/plain": [
       "    0    1    2         3         4        5         6         7         8   \\\n",
       "0  0.0  0.0  0.0  0.995025  0.000886  0.26237  0.679844  0.679844  0.395331   \n",
       "\n",
       "         9   ...        26        27        28        29        30      31  \\\n",
       "0  0.406374  ...  0.498753  0.498753  0.631302  0.631302  0.443326  0.0086   \n",
       "\n",
       "         32   33   34   35  \n",
       "0  0.995025  0.0  0.0  0.0  \n",
       "\n",
       "[1 rows x 36 columns]"
      ]
     },
     "execution_count": 240,
     "metadata": {},
     "output_type": "execute_result"
    }
   ],
   "source": [
    "h=hist.reshape(1,hist.shape[0])\n",
    "df=pd.DataFrame(h)\n",
    "df.head()"
   ]
  },
  {
   "cell_type": "code",
   "execution_count": 241,
   "metadata": {},
   "outputs": [],
   "source": [
    "for i in range(1,len(cv_img)):\n",
    "    hist=hog.compute(cv_img[i], winStride,padding,locations)\n",
    "    h=hist.reshape(1,hist.shape[0])\n",
    "    df=df.append(pd.DataFrame(h))"
   ]
  },
  {
   "cell_type": "code",
   "execution_count": 242,
   "metadata": {},
   "outputs": [
    {
     "data": {
      "text/html": [
       "<div>\n",
       "<style scoped>\n",
       "    .dataframe tbody tr th:only-of-type {\n",
       "        vertical-align: middle;\n",
       "    }\n",
       "\n",
       "    .dataframe tbody tr th {\n",
       "        vertical-align: top;\n",
       "    }\n",
       "\n",
       "    .dataframe thead th {\n",
       "        text-align: right;\n",
       "    }\n",
       "</style>\n",
       "<table border=\"1\" class=\"dataframe\">\n",
       "  <thead>\n",
       "    <tr style=\"text-align: right;\">\n",
       "      <th></th>\n",
       "      <th>0</th>\n",
       "      <th>1</th>\n",
       "      <th>2</th>\n",
       "      <th>3</th>\n",
       "      <th>4</th>\n",
       "      <th>5</th>\n",
       "      <th>6</th>\n",
       "      <th>7</th>\n",
       "      <th>8</th>\n",
       "      <th>9</th>\n",
       "      <th>...</th>\n",
       "      <th>26</th>\n",
       "      <th>27</th>\n",
       "      <th>28</th>\n",
       "      <th>29</th>\n",
       "      <th>30</th>\n",
       "      <th>31</th>\n",
       "      <th>32</th>\n",
       "      <th>33</th>\n",
       "      <th>34</th>\n",
       "      <th>35</th>\n",
       "    </tr>\n",
       "  </thead>\n",
       "  <tbody>\n",
       "    <tr>\n",
       "      <th>0</th>\n",
       "      <td>0.000000</td>\n",
       "      <td>0.000000</td>\n",
       "      <td>0.000000</td>\n",
       "      <td>0.995025</td>\n",
       "      <td>0.000886</td>\n",
       "      <td>0.262370</td>\n",
       "      <td>0.679844</td>\n",
       "      <td>0.679844</td>\n",
       "      <td>0.395331</td>\n",
       "      <td>0.406374</td>\n",
       "      <td>...</td>\n",
       "      <td>0.498753</td>\n",
       "      <td>0.498753</td>\n",
       "      <td>0.631302</td>\n",
       "      <td>0.631302</td>\n",
       "      <td>0.443326</td>\n",
       "      <td>0.008600</td>\n",
       "      <td>0.995025</td>\n",
       "      <td>0.000000</td>\n",
       "      <td>0.000000</td>\n",
       "      <td>0.000000</td>\n",
       "    </tr>\n",
       "    <tr>\n",
       "      <th>0</th>\n",
       "      <td>0.332056</td>\n",
       "      <td>0.542929</td>\n",
       "      <td>0.542929</td>\n",
       "      <td>0.542929</td>\n",
       "      <td>0.498753</td>\n",
       "      <td>0.498753</td>\n",
       "      <td>0.498753</td>\n",
       "      <td>0.498753</td>\n",
       "      <td>0.535539</td>\n",
       "      <td>0.366396</td>\n",
       "      <td>...</td>\n",
       "      <td>0.311960</td>\n",
       "      <td>0.546876</td>\n",
       "      <td>0.498753</td>\n",
       "      <td>0.498753</td>\n",
       "      <td>0.498753</td>\n",
       "      <td>0.498753</td>\n",
       "      <td>0.507684</td>\n",
       "      <td>0.507684</td>\n",
       "      <td>0.507684</td>\n",
       "      <td>0.470851</td>\n",
       "    </tr>\n",
       "    <tr>\n",
       "      <th>0</th>\n",
       "      <td>0.000000</td>\n",
       "      <td>0.000000</td>\n",
       "      <td>0.704616</td>\n",
       "      <td>0.704616</td>\n",
       "      <td>0.000000</td>\n",
       "      <td>0.000000</td>\n",
       "      <td>0.704616</td>\n",
       "      <td>0.704616</td>\n",
       "      <td>0.000000</td>\n",
       "      <td>0.000000</td>\n",
       "      <td>...</td>\n",
       "      <td>0.000000</td>\n",
       "      <td>0.000000</td>\n",
       "      <td>0.704616</td>\n",
       "      <td>0.704616</td>\n",
       "      <td>0.000000</td>\n",
       "      <td>0.000000</td>\n",
       "      <td>0.704616</td>\n",
       "      <td>0.704616</td>\n",
       "      <td>0.000000</td>\n",
       "      <td>0.000000</td>\n",
       "    </tr>\n",
       "    <tr>\n",
       "      <th>0</th>\n",
       "      <td>0.498753</td>\n",
       "      <td>0.498753</td>\n",
       "      <td>0.498753</td>\n",
       "      <td>0.498753</td>\n",
       "      <td>0.537085</td>\n",
       "      <td>0.359523</td>\n",
       "      <td>0.537085</td>\n",
       "      <td>0.537085</td>\n",
       "      <td>0.432223</td>\n",
       "      <td>0.034907</td>\n",
       "      <td>...</td>\n",
       "      <td>0.194348</td>\n",
       "      <td>0.564680</td>\n",
       "      <td>0.522376</td>\n",
       "      <td>0.522376</td>\n",
       "      <td>0.419706</td>\n",
       "      <td>0.522376</td>\n",
       "      <td>0.498753</td>\n",
       "      <td>0.498753</td>\n",
       "      <td>0.498753</td>\n",
       "      <td>0.498753</td>\n",
       "    </tr>\n",
       "    <tr>\n",
       "      <th>0</th>\n",
       "      <td>0.352940</td>\n",
       "      <td>0.538534</td>\n",
       "      <td>0.538534</td>\n",
       "      <td>0.538534</td>\n",
       "      <td>0.498753</td>\n",
       "      <td>0.498753</td>\n",
       "      <td>0.498753</td>\n",
       "      <td>0.498753</td>\n",
       "      <td>0.498753</td>\n",
       "      <td>0.498753</td>\n",
       "      <td>...</td>\n",
       "      <td>0.372681</td>\n",
       "      <td>0.534096</td>\n",
       "      <td>0.498753</td>\n",
       "      <td>0.498753</td>\n",
       "      <td>0.498753</td>\n",
       "      <td>0.498753</td>\n",
       "      <td>0.498753</td>\n",
       "      <td>0.498753</td>\n",
       "      <td>0.498753</td>\n",
       "      <td>0.498753</td>\n",
       "    </tr>\n",
       "  </tbody>\n",
       "</table>\n",
       "<p>5 rows × 36 columns</p>\n",
       "</div>"
      ],
      "text/plain": [
       "         0         1         2         3         4         5         6   \\\n",
       "0  0.000000  0.000000  0.000000  0.995025  0.000886  0.262370  0.679844   \n",
       "0  0.332056  0.542929  0.542929  0.542929  0.498753  0.498753  0.498753   \n",
       "0  0.000000  0.000000  0.704616  0.704616  0.000000  0.000000  0.704616   \n",
       "0  0.498753  0.498753  0.498753  0.498753  0.537085  0.359523  0.537085   \n",
       "0  0.352940  0.538534  0.538534  0.538534  0.498753  0.498753  0.498753   \n",
       "\n",
       "         7         8         9   ...        26        27        28        29  \\\n",
       "0  0.679844  0.395331  0.406374  ...  0.498753  0.498753  0.631302  0.631302   \n",
       "0  0.498753  0.535539  0.366396  ...  0.311960  0.546876  0.498753  0.498753   \n",
       "0  0.704616  0.000000  0.000000  ...  0.000000  0.000000  0.704616  0.704616   \n",
       "0  0.537085  0.432223  0.034907  ...  0.194348  0.564680  0.522376  0.522376   \n",
       "0  0.498753  0.498753  0.498753  ...  0.372681  0.534096  0.498753  0.498753   \n",
       "\n",
       "         30        31        32        33        34        35  \n",
       "0  0.443326  0.008600  0.995025  0.000000  0.000000  0.000000  \n",
       "0  0.498753  0.498753  0.507684  0.507684  0.507684  0.470851  \n",
       "0  0.000000  0.000000  0.704616  0.704616  0.000000  0.000000  \n",
       "0  0.419706  0.522376  0.498753  0.498753  0.498753  0.498753  \n",
       "0  0.498753  0.498753  0.498753  0.498753  0.498753  0.498753  \n",
       "\n",
       "[5 rows x 36 columns]"
      ]
     },
     "execution_count": 242,
     "metadata": {},
     "output_type": "execute_result"
    }
   ],
   "source": [
    "df.head()"
   ]
  },
  {
   "cell_type": "code",
   "execution_count": 243,
   "metadata": {},
   "outputs": [
    {
     "data": {
      "text/plain": [
       "(42000, 36)"
      ]
     },
     "execution_count": 243,
     "metadata": {},
     "output_type": "execute_result"
    }
   ],
   "source": [
    "df.shape"
   ]
  },
  {
   "cell_type": "code",
   "execution_count": 244,
   "metadata": {
    "scrolled": true
   },
   "outputs": [
    {
     "data": {
      "text/plain": [
       "(42000,)"
      ]
     },
     "execution_count": 244,
     "metadata": {},
     "output_type": "execute_result"
    }
   ],
   "source": [
    "train_label_cut=train_label\n",
    "train_label_cut.shape"
   ]
  },
  {
   "cell_type": "markdown",
   "metadata": {},
   "source": [
    "### Разбиваем на трейновую и валидацианную выборки. Получаем модель и score для нее"
   ]
  },
  {
   "cell_type": "code",
   "execution_count": 245,
   "metadata": {},
   "outputs": [],
   "source": [
    "from sklearn.model_selection import train_test_split"
   ]
  },
  {
   "cell_type": "code",
   "execution_count": 246,
   "metadata": {},
   "outputs": [],
   "source": [
    "X_train,X_test,y_train,y_test=train_test_split(df, train_label_cut, random_state=0, test_size=0.2)"
   ]
  },
  {
   "cell_type": "code",
   "execution_count": 247,
   "metadata": {},
   "outputs": [],
   "source": [
    "from sklearn import neighbors\n",
    "from sklearn.metrics import accuracy_score"
   ]
  },
  {
   "cell_type": "code",
   "execution_count": 248,
   "metadata": {},
   "outputs": [
    {
     "data": {
      "text/plain": [
       "0.7825"
      ]
     },
     "execution_count": 248,
     "metadata": {},
     "output_type": "execute_result"
    }
   ],
   "source": [
    "knn=neighbors.KNeighborsClassifier(n_neighbors=3)\n",
    "knn.fit(X_train, y_train)\n",
    "y_pred=knn.predict(X_test)\n",
    "accuracy_score(y_test, y_pred)"
   ]
  },
  {
   "cell_type": "code",
   "execution_count": 249,
   "metadata": {},
   "outputs": [],
   "source": [
    "from sklearn.ensemble import RandomForestClassifier"
   ]
  },
  {
   "cell_type": "code",
   "execution_count": 255,
   "metadata": {},
   "outputs": [
    {
     "data": {
      "text/plain": [
       "0.8469047619047619"
      ]
     },
     "execution_count": 255,
     "metadata": {},
     "output_type": "execute_result"
    }
   ],
   "source": [
    "RFC=RandomForestClassifier(n_estimators=100, max_depth=20, n_jobs=-1)\n",
    "RFC.fit(X_train, y_train)\n",
    "y_pred=RFC.predict(X_test)\n",
    "accuracy_score(y_test, y_pred)"
   ]
  },
  {
   "cell_type": "markdown",
   "metadata": {},
   "source": [
    "### Подготовим тестовые данные для создания submit для kaggle"
   ]
  },
  {
   "cell_type": "code",
   "execution_count": 256,
   "metadata": {},
   "outputs": [],
   "source": [
    "cv_img_test=test_img.astype(np.uint8)"
   ]
  },
  {
   "cell_type": "code",
   "execution_count": 257,
   "metadata": {},
   "outputs": [],
   "source": [
    "winSize = (28,28)\n",
    "blockSize = (14,14)\n",
    "blockStride = (7,7)\n",
    "cellSize = (7,7)\n",
    "nbins = 1\n",
    "derivAperture = 1\n",
    "winSigma = 4\n",
    "histogramNormType = 0\n",
    "L2HysThreshold = 2.0000000000000001e-01\n",
    "gammaCorrection = 0\n",
    "nlevels = 12\n",
    "\n",
    "hog=cv2.HOGDescriptor(winSize,blockSize,blockStride,cellSize,nbins,derivAperture,winSigma,\n",
    "                    histogramNormType,L2HysThreshold,gammaCorrection,nlevels)"
   ]
  },
  {
   "cell_type": "code",
   "execution_count": 258,
   "metadata": {},
   "outputs": [
    {
     "data": {
      "text/plain": [
       "(36, 1)"
      ]
     },
     "execution_count": 258,
     "metadata": {},
     "output_type": "execute_result"
    }
   ],
   "source": [
    "winStride = (5,5)\n",
    "padding = (8,8)\n",
    "locations = ((0,0),)\n",
    "hist=hog.compute(cv_img_test[0], winStride,padding,locations)\n",
    "hist.shape"
   ]
  },
  {
   "cell_type": "code",
   "execution_count": 259,
   "metadata": {},
   "outputs": [
    {
     "data": {
      "text/html": [
       "<div>\n",
       "<style scoped>\n",
       "    .dataframe tbody tr th:only-of-type {\n",
       "        vertical-align: middle;\n",
       "    }\n",
       "\n",
       "    .dataframe tbody tr th {\n",
       "        vertical-align: top;\n",
       "    }\n",
       "\n",
       "    .dataframe thead th {\n",
       "        text-align: right;\n",
       "    }\n",
       "</style>\n",
       "<table border=\"1\" class=\"dataframe\">\n",
       "  <thead>\n",
       "    <tr style=\"text-align: right;\">\n",
       "      <th></th>\n",
       "      <th>0</th>\n",
       "      <th>1</th>\n",
       "      <th>2</th>\n",
       "      <th>3</th>\n",
       "      <th>4</th>\n",
       "      <th>5</th>\n",
       "      <th>6</th>\n",
       "      <th>7</th>\n",
       "      <th>8</th>\n",
       "      <th>9</th>\n",
       "      <th>...</th>\n",
       "      <th>26</th>\n",
       "      <th>27</th>\n",
       "      <th>28</th>\n",
       "      <th>29</th>\n",
       "      <th>30</th>\n",
       "      <th>31</th>\n",
       "      <th>32</th>\n",
       "      <th>33</th>\n",
       "      <th>34</th>\n",
       "      <th>35</th>\n",
       "    </tr>\n",
       "  </thead>\n",
       "  <tbody>\n",
       "    <tr>\n",
       "      <th>0</th>\n",
       "      <td>0.203227</td>\n",
       "      <td>0.227089</td>\n",
       "      <td>0.670981</td>\n",
       "      <td>0.670981</td>\n",
       "      <td>0.244683</td>\n",
       "      <td>0.558139</td>\n",
       "      <td>0.558139</td>\n",
       "      <td>0.558139</td>\n",
       "      <td>0.550439</td>\n",
       "      <td>0.292494</td>\n",
       "      <td>...</td>\n",
       "      <td>0.313014</td>\n",
       "      <td>0.546676</td>\n",
       "      <td>0.498753</td>\n",
       "      <td>0.498753</td>\n",
       "      <td>0.498753</td>\n",
       "      <td>0.498753</td>\n",
       "      <td>0.498753</td>\n",
       "      <td>0.498753</td>\n",
       "      <td>0.498753</td>\n",
       "      <td>0.498753</td>\n",
       "    </tr>\n",
       "  </tbody>\n",
       "</table>\n",
       "<p>1 rows × 36 columns</p>\n",
       "</div>"
      ],
      "text/plain": [
       "         0         1         2         3         4         5         6   \\\n",
       "0  0.203227  0.227089  0.670981  0.670981  0.244683  0.558139  0.558139   \n",
       "\n",
       "         7         8         9   ...        26        27        28        29  \\\n",
       "0  0.558139  0.550439  0.292494  ...  0.313014  0.546676  0.498753  0.498753   \n",
       "\n",
       "         30        31        32        33        34        35  \n",
       "0  0.498753  0.498753  0.498753  0.498753  0.498753  0.498753  \n",
       "\n",
       "[1 rows x 36 columns]"
      ]
     },
     "execution_count": 259,
     "metadata": {},
     "output_type": "execute_result"
    }
   ],
   "source": [
    "h=hist.reshape(1,hist.shape[0])\n",
    "df_hog_test=pd.DataFrame(h)\n",
    "df_hog_test.head()"
   ]
  },
  {
   "cell_type": "code",
   "execution_count": 260,
   "metadata": {},
   "outputs": [],
   "source": [
    "for i in range(1,len(cv_img_test)):\n",
    "    hist=hog.compute(cv_img_test[i], winStride,padding,locations)\n",
    "    h=hist.reshape(1,hist.shape[0])\n",
    "    df_hog_test=df_hog_test.append(pd.DataFrame(h))"
   ]
  },
  {
   "cell_type": "code",
   "execution_count": 261,
   "metadata": {},
   "outputs": [
    {
     "data": {
      "text/plain": [
       "(28000, 36)"
      ]
     },
     "execution_count": 261,
     "metadata": {},
     "output_type": "execute_result"
    }
   ],
   "source": [
    "df_hog_test.shape"
   ]
  },
  {
   "cell_type": "code",
   "execution_count": 262,
   "metadata": {},
   "outputs": [],
   "source": [
    "y_pred_test=RFC.predict(df_hog_test)"
   ]
  },
  {
   "cell_type": "code",
   "execution_count": 263,
   "metadata": {},
   "outputs": [],
   "source": [
    "with open('submit.txt', 'w') as dst:\n",
    "    dst.write('ImageId,Label\\n')\n",
    "    for i, p in enumerate(y_pred_test, 1):\n",
    "        dst.write('%s,%d\\n' % (i, p))"
   ]
  },
  {
   "cell_type": "code",
   "execution_count": 264,
   "metadata": {
    "scrolled": true
   },
   "outputs": [
    {
     "data": {
      "text/html": [
       "<div>\n",
       "<style scoped>\n",
       "    .dataframe tbody tr th:only-of-type {\n",
       "        vertical-align: middle;\n",
       "    }\n",
       "\n",
       "    .dataframe tbody tr th {\n",
       "        vertical-align: top;\n",
       "    }\n",
       "\n",
       "    .dataframe thead th {\n",
       "        text-align: right;\n",
       "    }\n",
       "</style>\n",
       "<table border=\"1\" class=\"dataframe\">\n",
       "  <thead>\n",
       "    <tr style=\"text-align: right;\">\n",
       "      <th></th>\n",
       "      <th>ImageId</th>\n",
       "      <th>Label</th>\n",
       "    </tr>\n",
       "  </thead>\n",
       "  <tbody>\n",
       "    <tr>\n",
       "      <th>0</th>\n",
       "      <td>1</td>\n",
       "      <td>2</td>\n",
       "    </tr>\n",
       "    <tr>\n",
       "      <th>1</th>\n",
       "      <td>2</td>\n",
       "      <td>0</td>\n",
       "    </tr>\n",
       "    <tr>\n",
       "      <th>2</th>\n",
       "      <td>3</td>\n",
       "      <td>8</td>\n",
       "    </tr>\n",
       "    <tr>\n",
       "      <th>3</th>\n",
       "      <td>4</td>\n",
       "      <td>9</td>\n",
       "    </tr>\n",
       "    <tr>\n",
       "      <th>4</th>\n",
       "      <td>5</td>\n",
       "      <td>8</td>\n",
       "    </tr>\n",
       "    <tr>\n",
       "      <th>5</th>\n",
       "      <td>6</td>\n",
       "      <td>7</td>\n",
       "    </tr>\n",
       "    <tr>\n",
       "      <th>6</th>\n",
       "      <td>7</td>\n",
       "      <td>0</td>\n",
       "    </tr>\n",
       "    <tr>\n",
       "      <th>7</th>\n",
       "      <td>8</td>\n",
       "      <td>3</td>\n",
       "    </tr>\n",
       "    <tr>\n",
       "      <th>8</th>\n",
       "      <td>9</td>\n",
       "      <td>0</td>\n",
       "    </tr>\n",
       "    <tr>\n",
       "      <th>9</th>\n",
       "      <td>10</td>\n",
       "      <td>3</td>\n",
       "    </tr>\n",
       "  </tbody>\n",
       "</table>\n",
       "</div>"
      ],
      "text/plain": [
       "   ImageId  Label\n",
       "0        1      2\n",
       "1        2      0\n",
       "2        3      8\n",
       "3        4      9\n",
       "4        5      8\n",
       "5        6      7\n",
       "6        7      0\n",
       "7        8      3\n",
       "8        9      0\n",
       "9       10      3"
      ]
     },
     "execution_count": 264,
     "metadata": {},
     "output_type": "execute_result"
    }
   ],
   "source": [
    "import pandas as pd\n",
    "result=pd.read_csv('submit.txt')\n",
    "result.head(10)"
   ]
  },
  {
   "cell_type": "code",
   "execution_count": null,
   "metadata": {},
   "outputs": [],
   "source": []
  }
 ],
 "metadata": {
  "kernelspec": {
   "display_name": "Python 3",
   "language": "python",
   "name": "python3"
  },
  "language_info": {
   "codemirror_mode": {
    "name": "ipython",
    "version": 3
   },
   "file_extension": ".py",
   "mimetype": "text/x-python",
   "name": "python",
   "nbconvert_exporter": "python",
   "pygments_lexer": "ipython3",
   "version": "3.6.8"
  }
 },
 "nbformat": 4,
 "nbformat_minor": 2
}
